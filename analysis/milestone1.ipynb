{
 "cells": [
  {
   "cell_type": "code",
   "execution_count": 1,
   "id": "major-acting",
   "metadata": {},
   "outputs": [
    {
     "name": "stdout",
     "output_type": "stream",
     "text": [
      "<bound method NDFrame.head of       rowid     kepid kepoi_name   kepler_name koi_disposition  \\\n",
      "0         1  10797460  K00752.01  Kepler-227 b       CONFIRMED   \n",
      "1         2  10797460  K00752.02  Kepler-227 c       CONFIRMED   \n",
      "2         3  10811496  K00753.01           NaN  FALSE POSITIVE   \n",
      "3         4  10848459  K00754.01           NaN  FALSE POSITIVE   \n",
      "4         5  10854555  K00755.01  Kepler-664 b       CONFIRMED   \n",
      "...     ...       ...        ...           ...             ...   \n",
      "9559   9560  10031643  K07984.01           NaN  FALSE POSITIVE   \n",
      "9560   9561  10090151  K07985.01           NaN  FALSE POSITIVE   \n",
      "9561   9562  10128825  K07986.01           NaN       CANDIDATE   \n",
      "9562   9563  10147276  K07987.01           NaN  FALSE POSITIVE   \n",
      "9563   9564  10156110  K07989.01           NaN  FALSE POSITIVE   \n",
      "\n",
      "     koi_pdisposition  koi_score  koi_fpflag_nt  koi_fpflag_ss  koi_fpflag_co  \\\n",
      "0           CANDIDATE      1.000              0              0              0   \n",
      "1           CANDIDATE      0.969              0              0              0   \n",
      "2      FALSE POSITIVE      0.000              0              1              0   \n",
      "3      FALSE POSITIVE      0.000              0              1              0   \n",
      "4           CANDIDATE      1.000              0              0              0   \n",
      "...               ...        ...            ...            ...            ...   \n",
      "9559   FALSE POSITIVE      0.000              0              0              0   \n",
      "9560   FALSE POSITIVE      0.000              0              1              1   \n",
      "9561        CANDIDATE      0.497              0              0              0   \n",
      "9562   FALSE POSITIVE      0.021              0              0              1   \n",
      "9563   FALSE POSITIVE      0.000              0              0              1   \n",
      "\n",
      "      ...  koi_steff_err2  koi_slogg  koi_slogg_err1  koi_slogg_err2  \\\n",
      "0     ...           -81.0      4.467           0.064          -0.096   \n",
      "1     ...           -81.0      4.467           0.064          -0.096   \n",
      "2     ...          -176.0      4.544           0.044          -0.176   \n",
      "3     ...          -174.0      4.564           0.053          -0.168   \n",
      "4     ...          -211.0      4.438           0.070          -0.210   \n",
      "...   ...             ...        ...             ...             ...   \n",
      "9559  ...          -152.0      4.296           0.231          -0.189   \n",
      "9560  ...          -166.0      4.529           0.035          -0.196   \n",
      "9561  ...          -220.0      4.444           0.056          -0.224   \n",
      "9562  ...          -236.0      4.447           0.056          -0.224   \n",
      "9563  ...          -225.0      4.385           0.054          -0.216   \n",
      "\n",
      "      koi_srad  koi_srad_err1  koi_srad_err2         ra        dec  koi_kepmag  \n",
      "0        0.927          0.105         -0.061  291.93423  48.141651      15.347  \n",
      "1        0.927          0.105         -0.061  291.93423  48.141651      15.347  \n",
      "2        0.868          0.233         -0.078  297.00482  48.134129      15.436  \n",
      "3        0.791          0.201         -0.067  285.53461  48.285210      15.597  \n",
      "4        1.046          0.334         -0.133  288.75488  48.226200      15.509  \n",
      "...        ...            ...            ...        ...        ...         ...  \n",
      "9559     1.088          0.313         -0.228  298.74921  46.973351      14.478  \n",
      "9560     0.903          0.237         -0.079  297.18875  47.093819      14.082  \n",
      "9561     1.031          0.341         -0.114  286.50937  47.163219      14.757  \n",
      "9562     1.041          0.341         -0.114  294.16489  47.176281      15.385  \n",
      "9563     1.193          0.410         -0.137  297.00977  47.121021      14.826  \n",
      "\n",
      "[9564 rows x 50 columns]>\n"
     ]
    }
   ],
   "source": [
    "import pandas as pd\n",
    "\n",
    "df = pd.read_csv(\"C:/Users/james/Desktop/UBCO 2020_21/T2/DATA 301/Lab/Project/course-project-solo_106/data/raw/Kepler_Exoplanet_Search_Results.csv\")\n",
    "print(df.head)"
   ]
  },
  {
   "cell_type": "code",
   "execution_count": null,
   "id": "inner-punishment",
   "metadata": {},
   "outputs": [],
   "source": []
  }
 ],
 "metadata": {
  "kernelspec": {
   "display_name": "Python 3",
   "language": "python",
   "name": "python3"
  },
  "language_info": {
   "codemirror_mode": {
    "name": "ipython",
    "version": 3
   },
   "file_extension": ".py",
   "mimetype": "text/x-python",
   "name": "python",
   "nbconvert_exporter": "python",
   "pygments_lexer": "ipython3",
   "version": "3.8.5"
  }
 },
 "nbformat": 4,
 "nbformat_minor": 5
}
