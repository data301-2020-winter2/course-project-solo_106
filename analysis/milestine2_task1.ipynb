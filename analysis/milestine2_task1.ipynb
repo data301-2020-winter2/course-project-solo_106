{
 "cells": [
  {
   "cell_type": "markdown",
   "id": "valuable-andrew",
   "metadata": {},
   "source": [
    "# **Milestone 2 Task 1**\n",
    "---\n",
    "\n",
    "## Bold\n",
    "**This line is in bold.**\n",
    "\n",
    "## Italic\n",
    "*This line is in italic*\n",
    "\n",
    "## List\n",
    "1. one\n",
    "2. two\n",
    "    - two_one\n",
    "    - two_two\n",
    "    - two_three\n",
    "3. three\n",
    "\n",
    "## Quote\n",
    "> This is a quote\n"
   ]
  }
 ],
 "metadata": {
  "kernelspec": {
   "display_name": "Python 3",
   "language": "python",
   "name": "python3"
  },
  "language_info": {
   "codemirror_mode": {
    "name": "ipython",
    "version": 3
   },
   "file_extension": ".py",
   "mimetype": "text/x-python",
   "name": "python",
   "nbconvert_exporter": "python",
   "pygments_lexer": "ipython3",
   "version": "3.8.5"
  }
 },
 "nbformat": 4,
 "nbformat_minor": 5
}
